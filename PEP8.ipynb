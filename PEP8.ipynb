{
 "cells": [
  {
   "cell_type": "markdown",
   "metadata": {},
   "source": [
    "## PEP 8\n",
    "\n",
    "Identation: 4 Spaces \n",
    "    - optional for continuation lines \n",
    "\n",
    "Line break before or after a binary operator:\n",
    "    before \n",
    "\n",
    "Blank lines\n",
    "    - 2 blank lines around top level functions and class definitions\n",
    "    - method definitions: 1 blank line surrounded \n",
    "\n",
    "Importing methods: \n",
    "    import os\n",
    "    import sys\n",
    "\n",
    "    OR \n",
    "\n",
    "    from subprocess import Popen, PIPE\n",
    "\n",
    "Module level dunders: \n",
    "    __all__ -> after docstring, before other import or code \n",
    "\n",
    "Spaces: \n",
    "    - after comma, in slices, before and after, or no space \n",
    "\n",
    "Trailing commas: \n",
    "    - not good except in a tuple of one element \n",
    "        - (one,), only when one element is there\n"
   ]
  },
  {
   "cell_type": "markdown",
   "metadata": {},
   "source": []
  },
  {
   "cell_type": "code",
   "execution_count": 2,
   "metadata": {},
   "outputs": [],
   "source": [
    "import numpy as np "
   ]
  },
  {
   "cell_type": "code",
   "execution_count": 3,
   "metadata": {},
   "outputs": [
    {
     "data": {
      "text/plain": [
       "1.4142135623730951"
      ]
     },
     "execution_count": 3,
     "metadata": {},
     "output_type": "execute_result"
    }
   ],
   "source": [
    "a = [1,2,3,4,5]\n",
    "np.std(a)"
   ]
  },
  {
   "cell_type": "code",
   "execution_count": null,
   "metadata": {},
   "outputs": [],
   "source": []
  }
 ],
 "metadata": {
  "kernelspec": {
   "display_name": "Python 3",
   "language": "python",
   "name": "python3"
  },
  "language_info": {
   "codemirror_mode": {
    "name": "ipython",
    "version": 3
   },
   "file_extension": ".py",
   "mimetype": "text/x-python",
   "name": "python",
   "nbconvert_exporter": "python",
   "pygments_lexer": "ipython3",
   "version": "3.11.4"
  }
 },
 "nbformat": 4,
 "nbformat_minor": 2
}
